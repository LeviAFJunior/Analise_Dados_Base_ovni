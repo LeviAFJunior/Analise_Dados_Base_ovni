{
  "nbformat": 4,
  "nbformat_minor": 0,
  "metadata": {
    "colab": {
      "name": "5.4 - Exploração dos dados com SQL",
      "provenance": [],
      "collapsed_sections": []
    },
    "kernelspec": {
      "name": "python3",
      "display_name": "Python 3"
    }
  },
  "cells": [
    {
      "cell_type": "markdown",
      "metadata": {
        "id": "dhep8hNUITL8",
        "colab_type": "text"
      },
      "source": [
        "#**5.4 - Exploração dos dados com SQL**"
      ]
    },
    {
      "cell_type": "code",
      "metadata": {
        "id": "S9Z68HPAQzD4",
        "colab_type": "code",
        "colab": {}
      },
      "source": [
        "#!pip install -U pandasql\n",
        "import pandas as pd\n",
        "import pandasql"
      ],
      "execution_count": 0,
      "outputs": []
    },
    {
      "cell_type": "code",
      "metadata": {
        "id": "QtHvfZ-z6nBd",
        "colab_type": "code",
        "outputId": "805a7b43-4fc1-46ae-c85c-76417ea3f256",
        "colab": {
          "base_uri": "https://localhost:8080/",
          "height": 34
        }
      },
      "source": [
        "df = pd.read_csv('ovni_data.csv')\n",
        "\n",
        "#Excluindo coluna Indesejada\n",
        "del df['Unnamed: 0']\n",
        "\n",
        "#df.columns = ['Date/Time','City','State','Shape','Duration','Summary','Posted']\n",
        "\n",
        "linhas = df['Date / Time'].size\n",
        "\n",
        "print(\"Linhas: \",linhas)"
      ],
      "execution_count": 14,
      "outputs": [
        {
          "output_type": "stream",
          "text": [
            "Linhas:  99705\n"
          ],
          "name": "stdout"
        }
      ]
    },
    {
      "cell_type": "markdown",
      "metadata": {
        "id": "iQolK1x3IIBJ",
        "colab_type": "text"
      },
      "source": [
        "##**Ordenando relatos por estado e em ordem decrescente** \n",
        "**Removendo campos em branco**"
      ]
    },
    {
      "cell_type": "code",
      "metadata": {
        "id": "kcM2R75H9yZK",
        "colab_type": "code",
        "colab": {}
      },
      "source": [
        "estados = \"\"\"\n",
        "   SELECT State, COUNT(State) as qtd_rel FROM df WHERE State != ' ' GROUP BY State ORDER BY COUNT(State) desc ;\n",
        " \"\"\"\n",
        "result_consulta = pandasql.sqldf(estados)"
      ],
      "execution_count": 0,
      "outputs": []
    },
    {
      "cell_type": "markdown",
      "metadata": {
        "id": "DgWPUJQycKPW",
        "colab_type": "text"
      },
      "source": [
        "##**Análise dos estados dos Estados Unidos**"
      ]
    },
    {
      "cell_type": "code",
      "metadata": {
        "id": "qvsreVc3YrAY",
        "colab_type": "code",
        "colab": {}
      },
      "source": [
        "#Cria um array com os estados da coluna estado.\n",
        "\n",
        "lista_usa = ['AK','AL','AR','AZ','CA','CO','CT','DE','FL','GA',\n",
        "             'HI','IA','ID','IL','IN','KS','KY','LA','MA','MD',\n",
        "             'ME','MI','MN','MO','MS','MT','NC','ND','NE','NH',\n",
        "             'NJ','NM','NV','NY','OH','OK','OR','PA','RI','SC',\n",
        "             'SD','TN','TX','UT','VA','VT','WA','WI','WV','WY']\n",
        "\n",
        "lista = pd.DataFrame(lista_usa, columns=['Estados_Unidos'])"
      ],
      "execution_count": 0,
      "outputs": []
    },
    {
      "cell_type": "code",
      "metadata": {
        "id": "sSwXTF-98keY",
        "colab_type": "code",
        "colab": {}
      },
      "source": [
        "consulta_est_validos = '''\n",
        "  SELECT df.* FROM df, lista\n",
        "  WHERE State = Estados_Unidos\n",
        "'''\n",
        "\n",
        "limit_usa = pandasql.sqldf(consulta_est_validos)"
      ],
      "execution_count": 0,
      "outputs": []
    },
    {
      "cell_type": "markdown",
      "metadata": {
        "id": "4n_U-b4kIn5V",
        "colab_type": "text"
      },
      "source": [
        "##**Relatos das cidades que possuem 10 relatos ou mais**"
      ]
    },
    {
      "cell_type": "code",
      "metadata": {
        "id": "8iqQBUaM6TGV",
        "colab_type": "code",
        "colab": {}
      },
      "source": [
        "cidades_agrup = \"\"\"\n",
        "    SELECT State, Shape, City, COUNT(*) as total_posts FROM limit_usa GROUP BY City;\n",
        "  \"\"\"\n",
        "result_cidades_agrup = pandasql.sqldf(cidades_agrup)\n",
        "\n",
        "nova_query_usa = \"\"\"\n",
        "    SELECT State, Shape, City, total_posts \n",
        "    FROM result_cidades_agrup \n",
        "    WHERE City != 'unknown' AND total_posts >= 10 \n",
        "    ORDER BY total_posts desc;\n",
        "    \"\"\"\n",
        "sql_cidades_usa = pandasql.sqldf(nova_query_usa)"
      ],
      "execution_count": 0,
      "outputs": []
    },
    {
      "cell_type": "markdown",
      "metadata": {
        "id": "-txtgNGK73Pm",
        "colab_type": "text"
      },
      "source": [
        "##**Por que será que essa é a cidade que possui mais relatos?**"
      ]
    },
    {
      "cell_type": "markdown",
      "metadata": {
        "id": "-5wObm08w57d",
        "colab_type": "text"
      },
      "source": [
        "###**Phoenix**\t- No dia 13 de março de 1997, o céu do estado do Arizona e de Nevada, encheram de luzes, milhares de pessoas presenciaram o ocorrido, as pessoas afirmaram ver algo em formato triangular vagando pelo céu na cidade de Phoenix, capital do Arizona e cidade com mais relatos na análise de todos os casos de aparecimento de OVNI’s, o próprio governador presenciou e afirmou que seria um “objeto de outro mundo\". Milhares de pessoas registraram essas aparições isso explica ser um dos locais com mais relatos."
      ]
    },
    {
      "cell_type": "markdown",
      "metadata": {
        "id": "7YW87rUR-46Q",
        "colab_type": "text"
      },
      "source": [
        "####Fonte: https://aventurasnahistoria.uol.com.br/noticias/reportagem/luzes-phoenix-bizarras-aparicoes-de-ovnis-nos-estados-unidos.phtml"
      ]
    },
    {
      "cell_type": "markdown",
      "metadata": {
        "id": "jOafnIyI-fLf",
        "colab_type": "text"
      },
      "source": [
        "##**Fazer uma query exclusiva para o estado com maior número de relatos, buscando cidades que possuam um número superior a 10 relatórios. Enfatizar a cidade, a quantidade de relatos e formato do objeto não identificado.**"
      ]
    },
    {
      "cell_type": "code",
      "metadata": {
        "id": "BqbL96iWDzby",
        "colab_type": "code",
        "colab": {}
      },
      "source": [
        "estados_usa_mais_rel = \"\"\"\n",
        "    SELECT State, MAX(qtd_rel) as qtd_rel FROM result_consulta;\n",
        "    \"\"\"\n",
        "sql_estados = pandasql.sqldf(estados_usa_mais_rel)\n",
        "\n",
        "cid_mais_rel = \"\"\"\n",
        "  SELECT sql_cidades_usa.City, sql_cidades_usa.total_posts, sql_cidades_usa.Shape \n",
        "  FROM sql_estados, sql_cidades_usa \n",
        "  WHERE sql_cidades_usa.State = sql_estados.State AND sql_cidades_usa.total_posts > 10\n",
        "\"\"\"\n",
        "\n",
        "result_final_cidades = pandasql.sqldf(cid_mais_rel)\n",
        "\n",
        "result_final_cidades.to_csv('Tentativaeerro.csv')"
      ],
      "execution_count": 0,
      "outputs": []
    },
    {
      "cell_type": "markdown",
      "metadata": {
        "id": "GIWgN1r-V0up",
        "colab_type": "text"
      },
      "source": [
        "###Retirando campos em branco e campos \"Unknown\" da coluna Shape"
      ]
    },
    {
      "cell_type": "code",
      "metadata": {
        "id": "3cggEL1lUw5-",
        "colab_type": "code",
        "colab": {}
      },
      "source": [
        "estados_usa_mais_rel = \"\"\"\n",
        "    SELECT State, MAX(qtd_rel) as qtd_rel FROM result_consulta;\n",
        "    \"\"\"\n",
        "sql_estados = pandasql.sqldf(estados_usa_mais_rel)\n",
        "\n",
        "cid_mais_rel = \"\"\"\n",
        "  SELECT sql_cidades_usa.City, sql_cidades_usa.total_posts, sql_cidades_usa.Shape \n",
        "  FROM sql_estados, sql_cidades_usa \n",
        "  WHERE sql_cidades_usa.State = sql_estados.State AND sql_cidades_usa.total_posts > 10 AND sql_cidades_usa.Shape NOT IN (' ', 'Unknown')\n",
        "\"\"\"\n",
        "\n",
        "result_final_cidades = pandasql.sqldf(cid_mais_rel)"
      ],
      "execution_count": 0,
      "outputs": []
    }
  ]
}