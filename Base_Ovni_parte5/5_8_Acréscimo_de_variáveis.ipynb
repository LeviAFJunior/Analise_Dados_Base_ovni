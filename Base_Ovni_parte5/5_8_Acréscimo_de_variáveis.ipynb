{
  "nbformat": 4,
  "nbformat_minor": 0,
  "metadata": {
    "colab": {
      "name": "5.8 - Acréscimo de variáveis",
      "provenance": [],
      "collapsed_sections": []
    },
    "kernelspec": {
      "name": "python3",
      "display_name": "Python 3"
    }
  },
  "cells": [
    {
      "cell_type": "markdown",
      "metadata": {
        "id": "0IJxJl2q8G-_",
        "colab_type": "text"
      },
      "source": [
        "##**5.8 - Acréscimo de variáveis**"
      ]
    },
    {
      "cell_type": "code",
      "metadata": {
        "id": "3W8qtPJ88Dfs",
        "colab_type": "code",
        "colab": {}
      },
      "source": [
        "import pandas as pd\n",
        "\n",
        "df = pd.read_csv('df_OVNI_limpo.csv')\n",
        "\n",
        "#Retirando coluna indesejada\n",
        "del df['Unnamed: 0']"
      ],
      "execution_count": 0,
      "outputs": []
    },
    {
      "cell_type": "markdown",
      "metadata": {
        "id": "l8ARKMYwR7GK",
        "colab_type": "text"
      },
      "source": [
        "###**Dividir conteúdo da coluna Date Time em duas novas colunas. A primeira deve se chamar Sight_Date (Data) e Sight_Time (Hora)**"
      ]
    },
    {
      "cell_type": "code",
      "metadata": {
        "id": "2jyhIfccKFKe",
        "colab_type": "code",
        "outputId": "fc82422d-e0db-41df-b304-ae2d02d5bc18",
        "colab": {
          "base_uri": "https://localhost:8080/",
          "height": 424
        }
      },
      "source": [
        "#Criando coluna no dataframe somente ano\n",
        "df['Sight_Date'] = pd.to_datetime(df['Date / Time']).dt.strftime('%m/%d/%y')\n",
        "#Criando coluna no dataframe somente hora\n",
        "df['Sight_Time'] = pd.to_datetime(df['Date / Time']).dt.strftime('%H:%M')"
      ],
      "execution_count": 34,
      "outputs": [
        {
          "output_type": "execute_result",
          "data": {
            "text/html": [
              "<div>\n",
              "<style scoped>\n",
              "    .dataframe tbody tr th:only-of-type {\n",
              "        vertical-align: middle;\n",
              "    }\n",
              "\n",
              "    .dataframe tbody tr th {\n",
              "        vertical-align: top;\n",
              "    }\n",
              "\n",
              "    .dataframe thead th {\n",
              "        text-align: right;\n",
              "    }\n",
              "</style>\n",
              "<table border=\"1\" class=\"dataframe\">\n",
              "  <thead>\n",
              "    <tr style=\"text-align: right;\">\n",
              "      <th></th>\n",
              "      <th>Date / Time</th>\n",
              "      <th>City</th>\n",
              "      <th>State</th>\n",
              "      <th>Shape</th>\n",
              "      <th>Sight_Date</th>\n",
              "      <th>Sight_Time</th>\n",
              "    </tr>\n",
              "  </thead>\n",
              "  <tbody>\n",
              "    <tr>\n",
              "      <th>0</th>\n",
              "      <td>9/30/97 22:00</td>\n",
              "      <td>Madison</td>\n",
              "      <td>WI</td>\n",
              "      <td>Light</td>\n",
              "      <td>09/30/97</td>\n",
              "      <td>22:00</td>\n",
              "    </tr>\n",
              "    <tr>\n",
              "      <th>1</th>\n",
              "      <td>9/28/97 23:15</td>\n",
              "      <td>San Francisco</td>\n",
              "      <td>CA</td>\n",
              "      <td>Triangle</td>\n",
              "      <td>09/28/97</td>\n",
              "      <td>23:15</td>\n",
              "    </tr>\n",
              "    <tr>\n",
              "      <th>2</th>\n",
              "      <td>9/27/97 23:00</td>\n",
              "      <td>Egan</td>\n",
              "      <td>SD</td>\n",
              "      <td>Other</td>\n",
              "      <td>09/27/97</td>\n",
              "      <td>23:00</td>\n",
              "    </tr>\n",
              "    <tr>\n",
              "      <th>3</th>\n",
              "      <td>9/27/97 05:00</td>\n",
              "      <td>Crestwood</td>\n",
              "      <td>KY</td>\n",
              "      <td>Disk</td>\n",
              "      <td>09/27/97</td>\n",
              "      <td>05:00</td>\n",
              "    </tr>\n",
              "    <tr>\n",
              "      <th>4</th>\n",
              "      <td>9/25/97 22:00</td>\n",
              "      <td>Clearfield</td>\n",
              "      <td>UT</td>\n",
              "      <td>Triangle</td>\n",
              "      <td>09/25/97</td>\n",
              "      <td>22:00</td>\n",
              "    </tr>\n",
              "    <tr>\n",
              "      <th>...</th>\n",
              "      <td>...</td>\n",
              "      <td>...</td>\n",
              "      <td>...</td>\n",
              "      <td>...</td>\n",
              "      <td>...</td>\n",
              "      <td>...</td>\n",
              "    </tr>\n",
              "    <tr>\n",
              "      <th>77897</th>\n",
              "      <td>8/1/17 14:00</td>\n",
              "      <td>Joliet</td>\n",
              "      <td>IL</td>\n",
              "      <td>Other</td>\n",
              "      <td>08/01/17</td>\n",
              "      <td>14:00</td>\n",
              "    </tr>\n",
              "    <tr>\n",
              "      <th>77898</th>\n",
              "      <td>8/1/17 06:15</td>\n",
              "      <td>Columbus (North)</td>\n",
              "      <td>GA</td>\n",
              "      <td>Fireball</td>\n",
              "      <td>08/01/17</td>\n",
              "      <td>06:15</td>\n",
              "    </tr>\n",
              "    <tr>\n",
              "      <th>77899</th>\n",
              "      <td>8/1/17 02:45</td>\n",
              "      <td>Corcoran</td>\n",
              "      <td>MN</td>\n",
              "      <td>Light</td>\n",
              "      <td>08/01/17</td>\n",
              "      <td>02:45</td>\n",
              "    </tr>\n",
              "    <tr>\n",
              "      <th>77900</th>\n",
              "      <td>8/1/17 02:00</td>\n",
              "      <td>Moreno Valley</td>\n",
              "      <td>CA</td>\n",
              "      <td>Other</td>\n",
              "      <td>08/01/17</td>\n",
              "      <td>02:00</td>\n",
              "    </tr>\n",
              "    <tr>\n",
              "      <th>77901</th>\n",
              "      <td>8/1/17 01:00</td>\n",
              "      <td>Bradenton</td>\n",
              "      <td>FL</td>\n",
              "      <td>Other</td>\n",
              "      <td>08/01/17</td>\n",
              "      <td>01:00</td>\n",
              "    </tr>\n",
              "  </tbody>\n",
              "</table>\n",
              "<p>77902 rows × 6 columns</p>\n",
              "</div>"
            ],
            "text/plain": [
              "         Date / Time              City State     Shape Sight_Date Sight_Time\n",
              "0      9/30/97 22:00           Madison    WI     Light   09/30/97      22:00\n",
              "1      9/28/97 23:15     San Francisco    CA  Triangle   09/28/97      23:15\n",
              "2      9/27/97 23:00              Egan    SD     Other   09/27/97      23:00\n",
              "3      9/27/97 05:00         Crestwood    KY      Disk   09/27/97      05:00\n",
              "4      9/25/97 22:00        Clearfield    UT  Triangle   09/25/97      22:00\n",
              "...              ...               ...   ...       ...        ...        ...\n",
              "77897   8/1/17 14:00            Joliet    IL     Other   08/01/17      14:00\n",
              "77898   8/1/17 06:15  Columbus (North)    GA  Fireball   08/01/17      06:15\n",
              "77899   8/1/17 02:45          Corcoran    MN     Light   08/01/17      02:45\n",
              "77900   8/1/17 02:00     Moreno Valley    CA     Other   08/01/17      02:00\n",
              "77901   8/1/17 01:00         Bradenton    FL     Other   08/01/17      01:00\n",
              "\n",
              "[77902 rows x 6 columns]"
            ]
          },
          "metadata": {
            "tags": []
          },
          "execution_count": 34
        }
      ]
    },
    {
      "cell_type": "markdown",
      "metadata": {
        "id": "dZBnMXtHWEx3",
        "colab_type": "text"
      },
      "source": [
        "###**Excluir coluna Date Time do DataFrame**"
      ]
    },
    {
      "cell_type": "code",
      "metadata": {
        "id": "ItDkU1Gk_A1l",
        "colab_type": "code",
        "outputId": "9de72446-6c13-41cf-ec55-6912d32fc12d",
        "colab": {
          "base_uri": "https://localhost:8080/",
          "height": 424
        }
      },
      "source": [
        "df = df.drop(['Date / Time'], axis=1)\n"
      ],
      "execution_count": 35,
      "outputs": [
        {
          "output_type": "execute_result",
          "data": {
            "text/html": [
              "<div>\n",
              "<style scoped>\n",
              "    .dataframe tbody tr th:only-of-type {\n",
              "        vertical-align: middle;\n",
              "    }\n",
              "\n",
              "    .dataframe tbody tr th {\n",
              "        vertical-align: top;\n",
              "    }\n",
              "\n",
              "    .dataframe thead th {\n",
              "        text-align: right;\n",
              "    }\n",
              "</style>\n",
              "<table border=\"1\" class=\"dataframe\">\n",
              "  <thead>\n",
              "    <tr style=\"text-align: right;\">\n",
              "      <th></th>\n",
              "      <th>City</th>\n",
              "      <th>State</th>\n",
              "      <th>Shape</th>\n",
              "      <th>Sight_Date</th>\n",
              "      <th>Sight_Time</th>\n",
              "    </tr>\n",
              "  </thead>\n",
              "  <tbody>\n",
              "    <tr>\n",
              "      <th>0</th>\n",
              "      <td>Madison</td>\n",
              "      <td>WI</td>\n",
              "      <td>Light</td>\n",
              "      <td>09/30/97</td>\n",
              "      <td>22:00</td>\n",
              "    </tr>\n",
              "    <tr>\n",
              "      <th>1</th>\n",
              "      <td>San Francisco</td>\n",
              "      <td>CA</td>\n",
              "      <td>Triangle</td>\n",
              "      <td>09/28/97</td>\n",
              "      <td>23:15</td>\n",
              "    </tr>\n",
              "    <tr>\n",
              "      <th>2</th>\n",
              "      <td>Egan</td>\n",
              "      <td>SD</td>\n",
              "      <td>Other</td>\n",
              "      <td>09/27/97</td>\n",
              "      <td>23:00</td>\n",
              "    </tr>\n",
              "    <tr>\n",
              "      <th>3</th>\n",
              "      <td>Crestwood</td>\n",
              "      <td>KY</td>\n",
              "      <td>Disk</td>\n",
              "      <td>09/27/97</td>\n",
              "      <td>05:00</td>\n",
              "    </tr>\n",
              "    <tr>\n",
              "      <th>4</th>\n",
              "      <td>Clearfield</td>\n",
              "      <td>UT</td>\n",
              "      <td>Triangle</td>\n",
              "      <td>09/25/97</td>\n",
              "      <td>22:00</td>\n",
              "    </tr>\n",
              "    <tr>\n",
              "      <th>...</th>\n",
              "      <td>...</td>\n",
              "      <td>...</td>\n",
              "      <td>...</td>\n",
              "      <td>...</td>\n",
              "      <td>...</td>\n",
              "    </tr>\n",
              "    <tr>\n",
              "      <th>77897</th>\n",
              "      <td>Joliet</td>\n",
              "      <td>IL</td>\n",
              "      <td>Other</td>\n",
              "      <td>08/01/17</td>\n",
              "      <td>14:00</td>\n",
              "    </tr>\n",
              "    <tr>\n",
              "      <th>77898</th>\n",
              "      <td>Columbus (North)</td>\n",
              "      <td>GA</td>\n",
              "      <td>Fireball</td>\n",
              "      <td>08/01/17</td>\n",
              "      <td>06:15</td>\n",
              "    </tr>\n",
              "    <tr>\n",
              "      <th>77899</th>\n",
              "      <td>Corcoran</td>\n",
              "      <td>MN</td>\n",
              "      <td>Light</td>\n",
              "      <td>08/01/17</td>\n",
              "      <td>02:45</td>\n",
              "    </tr>\n",
              "    <tr>\n",
              "      <th>77900</th>\n",
              "      <td>Moreno Valley</td>\n",
              "      <td>CA</td>\n",
              "      <td>Other</td>\n",
              "      <td>08/01/17</td>\n",
              "      <td>02:00</td>\n",
              "    </tr>\n",
              "    <tr>\n",
              "      <th>77901</th>\n",
              "      <td>Bradenton</td>\n",
              "      <td>FL</td>\n",
              "      <td>Other</td>\n",
              "      <td>08/01/17</td>\n",
              "      <td>01:00</td>\n",
              "    </tr>\n",
              "  </tbody>\n",
              "</table>\n",
              "<p>77902 rows × 5 columns</p>\n",
              "</div>"
            ],
            "text/plain": [
              "                   City State     Shape Sight_Date Sight_Time\n",
              "0               Madison    WI     Light   09/30/97      22:00\n",
              "1         San Francisco    CA  Triangle   09/28/97      23:15\n",
              "2                  Egan    SD     Other   09/27/97      23:00\n",
              "3             Crestwood    KY      Disk   09/27/97      05:00\n",
              "4            Clearfield    UT  Triangle   09/25/97      22:00\n",
              "...                 ...   ...       ...        ...        ...\n",
              "77897            Joliet    IL     Other   08/01/17      14:00\n",
              "77898  Columbus (North)    GA  Fireball   08/01/17      06:15\n",
              "77899          Corcoran    MN     Light   08/01/17      02:45\n",
              "77900     Moreno Valley    CA     Other   08/01/17      02:00\n",
              "77901         Bradenton    FL     Other   08/01/17      01:00\n",
              "\n",
              "[77902 rows x 5 columns]"
            ]
          },
          "metadata": {
            "tags": []
          },
          "execution_count": 35
        }
      ]
    },
    {
      "cell_type": "markdown",
      "metadata": {
        "id": "tdb_iGTPlnQp",
        "colab_type": "text"
      },
      "source": [
        "###**Acrescentar uma coluna com dias da semana nomeada de Sight_Weekday**"
      ]
    },
    {
      "cell_type": "code",
      "metadata": {
        "id": "Lns_cSEUWC4L",
        "colab_type": "code",
        "colab": {}
      },
      "source": [
        "df['Sight_Weekday'] = pd.to_datetime(df['Sight_Date']).dt.dayofweek\n",
        "\n",
        "dias = {\n",
        "    0: 'Segunda-Feira',\n",
        "    1: 'Terça-Feira',\n",
        "    2: 'Quarta-Feira',\n",
        "    3: 'Quinta-Feira',\n",
        "    4: 'Sexta-Feira',\n",
        "    5: 'Sábado',\n",
        "    6: 'Domingo'\n",
        "}\n",
        "\n",
        "df = df.replace({'Sight_Weekday': dias})"
      ],
      "execution_count": 0,
      "outputs": []
    },
    {
      "cell_type": "markdown",
      "metadata": {
        "id": "TjDJMZH9l_pM",
        "colab_type": "text"
      },
      "source": [
        "###**Criar coluna com dia e uma coluna de mês**"
      ]
    },
    {
      "cell_type": "code",
      "metadata": {
        "id": "8FoOCkm-mKvm",
        "colab_type": "code",
        "colab": {}
      },
      "source": [
        "#Coluna para criar o dia da semana\n",
        "df['Sight_Day'] = pd.to_datetime(df['Sight_Date']).dt.strftime('%d')\n",
        "#Coluna para criar o mes\n",
        "df['Sight_Month'] = pd.to_datetime(df['Sight_Date']).dt.strftime('%m')"
      ],
      "execution_count": 0,
      "outputs": []
    },
    {
      "cell_type": "markdown",
      "metadata": {
        "id": "ioZUkfpYsOuu",
        "colab_type": "text"
      },
      "source": [
        "###**Salvar o dataframe**"
      ]
    },
    {
      "cell_type": "code",
      "metadata": {
        "id": "gzNB_OOVvY2T",
        "colab_type": "code",
        "colab": {}
      },
      "source": [
        "df.to_csv('df_OVNI_preparado', index = False)"
      ],
      "execution_count": 0,
      "outputs": []
    }
  ]
}